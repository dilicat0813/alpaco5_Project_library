{
 "cells": [
  {
   "cell_type": "code",
   "execution_count": 1,
   "metadata": {},
   "outputs": [],
   "source": [
    "import pandas as pd"
   ]
  },
  {
   "cell_type": "code",
   "execution_count": 2,
   "metadata": {},
   "outputs": [
    {
     "name": "stderr",
     "output_type": "stream",
     "text": [
      "c:\\Users\\mkh08\\miniconda3\\envs\\py3.10\\lib\\site-packages\\IPython\\core\\interactiveshell.py:3505: DtypeWarning: Columns (11,14) have mixed types.Specify dtype option on import or set low_memory=False.\n",
      "  exec(code_obj, self.user_global_ns, self.user_ns)\n"
     ]
    }
   ],
   "source": [
    "df1 = pd.read_csv(\"searchword.csv\")\n",
    "df2 = pd.read_csv(\"usedata.csv\")\n"
   ]
  },
  {
   "cell_type": "code",
   "execution_count": 15,
   "metadata": {},
   "outputs": [
    {
     "name": "stderr",
     "output_type": "stream",
     "text": [
      "c:\\Users\\mkh08\\miniconda3\\envs\\py3.10\\lib\\site-packages\\IPython\\core\\interactiveshell.py:3505: DtypeWarning: Columns (11,14) have mixed types.Specify dtype option on import or set low_memory=False.\n",
      "  exec(code_obj, self.user_global_ns, self.user_ns)\n"
     ]
    }
   ],
   "source": [
    "df3 = pd.read_csv(\"Details2.csv\")"
   ]
  },
  {
   "cell_type": "code",
   "execution_count": 3,
   "metadata": {},
   "outputs": [
    {
     "data": {
      "text/html": [
       "<div>\n",
       "<style scoped>\n",
       "    .dataframe tbody tr th:only-of-type {\n",
       "        vertical-align: middle;\n",
       "    }\n",
       "\n",
       "    .dataframe tbody tr th {\n",
       "        vertical-align: top;\n",
       "    }\n",
       "\n",
       "    .dataframe thead th {\n",
       "        text-align: right;\n",
       "    }\n",
       "</style>\n",
       "<table border=\"1\" class=\"dataframe\">\n",
       "  <thead>\n",
       "    <tr style=\"text-align: right;\">\n",
       "      <th></th>\n",
       "      <th>Unnamed: 0</th>\n",
       "      <th>ISBN_NO</th>\n",
       "      <th>Combined</th>\n",
       "    </tr>\n",
       "  </thead>\n",
       "  <tbody>\n",
       "    <tr>\n",
       "      <th>0</th>\n",
       "      <td>0</td>\n",
       "      <td>1111111111111</td>\n",
       "      <td>영어학습</td>\n",
       "    </tr>\n",
       "    <tr>\n",
       "      <th>1</th>\n",
       "      <td>1</td>\n",
       "      <td>2090000056501</td>\n",
       "      <td>매일, 고전, 하이쿠, 삼국유사, 동양고전, 하루, 열하일기, 논어, 민음사편집부,...</td>\n",
       "    </tr>\n",
       "    <tr>\n",
       "      <th>2</th>\n",
       "      <td>2</td>\n",
       "      <td>2090000063035</td>\n",
       "      <td>편리, 이미지, 일력, 쓰기, 옛글, 느낌, 문장, 하이쿠, 논어, 차고, 사용, ...</td>\n",
       "    </tr>\n",
       "    <tr>\n",
       "      <th>3</th>\n",
       "      <td>3</td>\n",
       "      <td>8801748054605</td>\n",
       "      <td>밤하늘, 여전, 사진, 밑그림, 비행접시, 자신, 부록, 사이, 반짝, 우주, 바탕...</td>\n",
       "    </tr>\n",
       "    <tr>\n",
       "      <th>4</th>\n",
       "      <td>4</td>\n",
       "      <td>8803581200010</td>\n",
       "      <td>다양, 새해인사, 포토북, 기념일, 문장, 특전, 인증카드, 날짜, 시집, 스티커,...</td>\n",
       "    </tr>\n",
       "  </tbody>\n",
       "</table>\n",
       "</div>"
      ],
      "text/plain": [
       "   Unnamed: 0        ISBN_NO  \\\n",
       "0           0  1111111111111   \n",
       "1           1  2090000056501   \n",
       "2           2  2090000063035   \n",
       "3           3  8801748054605   \n",
       "4           4  8803581200010   \n",
       "\n",
       "                                            Combined  \n",
       "0                                               영어학습  \n",
       "1  매일, 고전, 하이쿠, 삼국유사, 동양고전, 하루, 열하일기, 논어, 민음사편집부,...  \n",
       "2  편리, 이미지, 일력, 쓰기, 옛글, 느낌, 문장, 하이쿠, 논어, 차고, 사용, ...  \n",
       "3  밤하늘, 여전, 사진, 밑그림, 비행접시, 자신, 부록, 사이, 반짝, 우주, 바탕...  \n",
       "4  다양, 새해인사, 포토북, 기념일, 문장, 특전, 인증카드, 날짜, 시집, 스티커,...  "
      ]
     },
     "execution_count": 3,
     "metadata": {},
     "output_type": "execute_result"
    }
   ],
   "source": [
    "df1.head()"
   ]
  },
  {
   "cell_type": "code",
   "execution_count": 39,
   "metadata": {},
   "outputs": [
    {
     "name": "stdout",
     "output_type": "stream",
     "text": [
      "<class 'pandas.core.frame.DataFrame'>\n",
      "RangeIndex: 735962 entries, 0 to 735961\n",
      "Data columns (total 2 columns):\n",
      " #   Column   Non-Null Count   Dtype\n",
      "---  ------   --------------   -----\n",
      " 0   ISBN_NO  735962 non-null  int64\n",
      " 1   LON_CO   735962 non-null  int64\n",
      "dtypes: int64(2)\n",
      "memory usage: 11.2 MB\n"
     ]
    }
   ],
   "source": [
    "df2.info()"
   ]
  },
  {
   "cell_type": "code",
   "execution_count": 25,
   "metadata": {},
   "outputs": [],
   "source": [
    "df2 = df2[['ISBN_NO','LON_CO']]"
   ]
  },
  {
   "cell_type": "code",
   "execution_count": 31,
   "metadata": {},
   "outputs": [
    {
     "name": "stdout",
     "output_type": "stream",
     "text": [
      "<class 'pandas.core.frame.DataFrame'>\n",
      "RangeIndex: 735962 entries, 0 to 735961\n",
      "Data columns (total 2 columns):\n",
      " #   Column   Non-Null Count   Dtype\n",
      "---  ------   --------------   -----\n",
      " 0   ISBN_NO  735962 non-null  int64\n",
      " 1   LON_CO   735962 non-null  int64\n",
      "dtypes: int64(2)\n",
      "memory usage: 11.2 MB\n"
     ]
    }
   ],
   "source": [
    "df2.info()"
   ]
  },
  {
   "cell_type": "code",
   "execution_count": 19,
   "metadata": {},
   "outputs": [],
   "source": [
    "df3 = df3.dropna(subset=['KDC_NM'])"
   ]
  },
  {
   "cell_type": "code",
   "execution_count": 27,
   "metadata": {},
   "outputs": [
    {
     "name": "stdout",
     "output_type": "stream",
     "text": [
      "<class 'pandas.core.frame.DataFrame'>\n",
      "Int64Index: 592203 entries, 0 to 1103282\n",
      "Data columns (total 15 columns):\n",
      " #   Column                Non-Null Count   Dtype  \n",
      "---  ------                --------------   -----  \n",
      " 0   BOOK_MASTR_SEQ_NO     592203 non-null  int64  \n",
      " 1   ISBN_NO               592203 non-null  int64  \n",
      " 2   MUMM_LON_HALFLIFE_CO  592203 non-null  int64  \n",
      " 3   MXMM_LON_HALFLIFE_CO  592203 non-null  int64  \n",
      " 4   AVRG_LON_HALFLIFE_CO  592203 non-null  int64  \n",
      " 5   BOOK_CO               592203 non-null  int64  \n",
      " 6   ISBN_THIRTEEN_NO      592203 non-null  float64\n",
      " 7   TITLE_NM              592203 non-null  object \n",
      " 8   AUTHR_NM              589566 non-null  object \n",
      " 9   PUBLISHER_NM          544871 non-null  object \n",
      " 10  SEQ_NO                592203 non-null  float64\n",
      " 11  ADTION_SMBL_NM        547708 non-null  object \n",
      " 12  IMAGE_URL             458021 non-null  object \n",
      " 13  BOOK_INTRCN_CN        441178 non-null  object \n",
      " 14  KDC_NM                592203 non-null  object \n",
      "dtypes: float64(2), int64(6), object(7)\n",
      "memory usage: 72.3+ MB\n"
     ]
    }
   ],
   "source": [
    "df3.info()"
   ]
  },
  {
   "cell_type": "code",
   "execution_count": 33,
   "metadata": {},
   "outputs": [],
   "source": [
    "df4 = pd.merge(df3, df2, on=\"ISBN_NO\", how='inner')"
   ]
  },
  {
   "cell_type": "code",
   "execution_count": 34,
   "metadata": {},
   "outputs": [
    {
     "name": "stdout",
     "output_type": "stream",
     "text": [
      "<class 'pandas.core.frame.DataFrame'>\n",
      "Int64Index: 531802 entries, 0 to 531801\n",
      "Data columns (total 16 columns):\n",
      " #   Column                Non-Null Count   Dtype  \n",
      "---  ------                --------------   -----  \n",
      " 0   BOOK_MASTR_SEQ_NO     531802 non-null  int64  \n",
      " 1   ISBN_NO               531802 non-null  int64  \n",
      " 2   MUMM_LON_HALFLIFE_CO  531802 non-null  int64  \n",
      " 3   MXMM_LON_HALFLIFE_CO  531802 non-null  int64  \n",
      " 4   AVRG_LON_HALFLIFE_CO  531802 non-null  int64  \n",
      " 5   BOOK_CO               531802 non-null  int64  \n",
      " 6   ISBN_THIRTEEN_NO      531802 non-null  float64\n",
      " 7   TITLE_NM              531802 non-null  object \n",
      " 8   AUTHR_NM              531774 non-null  object \n",
      " 9   PUBLISHER_NM          528668 non-null  object \n",
      " 10  SEQ_NO                531802 non-null  float64\n",
      " 11  ADTION_SMBL_NM        521645 non-null  object \n",
      " 12  IMAGE_URL             448132 non-null  object \n",
      " 13  BOOK_INTRCN_CN        435702 non-null  object \n",
      " 14  KDC_NM                531802 non-null  object \n",
      " 15  LON_CO                531802 non-null  int64  \n",
      "dtypes: float64(2), int64(7), object(7)\n",
      "memory usage: 69.0+ MB\n"
     ]
    }
   ],
   "source": [
    "df4.info()"
   ]
  },
  {
   "cell_type": "code",
   "execution_count": 42,
   "metadata": {},
   "outputs": [
    {
     "name": "stdout",
     "output_type": "stream",
     "text": [
      "<class 'pandas.core.frame.DataFrame'>\n",
      "RangeIndex: 128584 entries, 0 to 128583\n",
      "Data columns (total 2 columns):\n",
      " #   Column    Non-Null Count   Dtype \n",
      "---  ------    --------------   ----- \n",
      " 0   ISBN_NO   128584 non-null  object\n",
      " 1   Combined  128584 non-null  object\n",
      "dtypes: object(2)\n",
      "memory usage: 2.0+ MB\n"
     ]
    }
   ],
   "source": [
    "df1.info()"
   ]
  },
  {
   "cell_type": "code",
   "execution_count": 36,
   "metadata": {},
   "outputs": [],
   "source": [
    "df1.drop('Unnamed: 0', axis=1, inplace=True)"
   ]
  },
  {
   "cell_type": "code",
   "execution_count": 43,
   "metadata": {},
   "outputs": [],
   "source": [
    "df4['ISBN_NO']= df4['ISBN_NO'].astype(str)"
   ]
  },
  {
   "cell_type": "code",
   "execution_count": 44,
   "metadata": {},
   "outputs": [],
   "source": [
    "df = pd.merge(df4, df1, on=\"ISBN_NO\", how=\"left\")"
   ]
  },
  {
   "cell_type": "code",
   "execution_count": 46,
   "metadata": {},
   "outputs": [
    {
     "name": "stdout",
     "output_type": "stream",
     "text": [
      "<class 'pandas.core.frame.DataFrame'>\n",
      "Int64Index: 532952 entries, 0 to 532951\n",
      "Data columns (total 17 columns):\n",
      " #   Column                Non-Null Count   Dtype  \n",
      "---  ------                --------------   -----  \n",
      " 0   BOOK_MASTR_SEQ_NO     532952 non-null  int64  \n",
      " 1   ISBN_NO               532952 non-null  object \n",
      " 2   MUMM_LON_HALFLIFE_CO  532952 non-null  int64  \n",
      " 3   MXMM_LON_HALFLIFE_CO  532952 non-null  int64  \n",
      " 4   AVRG_LON_HALFLIFE_CO  532952 non-null  int64  \n",
      " 5   BOOK_CO               532952 non-null  int64  \n",
      " 6   ISBN_THIRTEEN_NO      532952 non-null  float64\n",
      " 7   TITLE_NM              532952 non-null  object \n",
      " 8   AUTHR_NM              532924 non-null  object \n",
      " 9   PUBLISHER_NM          529818 non-null  object \n",
      " 10  SEQ_NO                532952 non-null  float64\n",
      " 11  ADTION_SMBL_NM        522791 non-null  object \n",
      " 12  IMAGE_URL             449282 non-null  object \n",
      " 13  BOOK_INTRCN_CN        436845 non-null  object \n",
      " 14  KDC_NM                532952 non-null  object \n",
      " 15  LON_CO                532952 non-null  int64  \n",
      " 16  Combined              76835 non-null   object \n",
      "dtypes: float64(2), int64(6), object(9)\n",
      "memory usage: 73.2+ MB\n"
     ]
    }
   ],
   "source": [
    "df.info()"
   ]
  }
 ],
 "metadata": {
  "kernelspec": {
   "display_name": "Python 3",
   "language": "python",
   "name": "python3"
  },
  "language_info": {
   "codemirror_mode": {
    "name": "ipython",
    "version": 3
   },
   "file_extension": ".py",
   "mimetype": "text/x-python",
   "name": "python",
   "nbconvert_exporter": "python",
   "pygments_lexer": "ipython3",
   "version": "3.10.10"
  },
  "orig_nbformat": 4
 },
 "nbformat": 4,
 "nbformat_minor": 2
}
