{
 "cells": [
  {
   "cell_type": "code",
   "execution_count": 1,
   "metadata": {},
   "outputs": [],
   "source": [
    "import pandas as pd"
   ]
  },
  {
   "cell_type": "code",
   "execution_count": 2,
   "metadata": {},
   "outputs": [],
   "source": [
    "df1 = pd.read_csv(\"searchword.csv\")\n",
    "df2 = pd.read_csv(\"usedata.csv\")\n"
   ]
  },
  {
   "cell_type": "code",
   "execution_count": 3,
   "metadata": {},
   "outputs": [
    {
     "name": "stderr",
     "output_type": "stream",
     "text": [
      "C:\\Users\\mkh08\\AppData\\Local\\Temp\\ipykernel_1516\\3792208404.py:1: DtypeWarning: Columns (11,14) have mixed types. Specify dtype option on import or set low_memory=False.\n",
      "  df3 = pd.read_csv(\"Details2.csv\")\n"
     ]
    }
   ],
   "source": [
    "df3 = pd.read_csv(\"Details2.csv\")"
   ]
  },
  {
   "cell_type": "code",
   "execution_count": 5,
   "metadata": {},
   "outputs": [
    {
     "data": {
      "text/plain": [
       "count    735962.000000\n",
       "mean       1731.929846\n",
       "std        4971.763765\n",
       "min           1.000000\n",
       "25%          95.000000\n",
       "50%         364.000000\n",
       "75%        1444.000000\n",
       "max      461247.000000\n",
       "Name: LON_CO, dtype: float64"
      ]
     },
     "execution_count": 5,
     "metadata": {},
     "output_type": "execute_result"
    }
   ],
   "source": [
    "df2['LON_CO'].describe()"
   ]
  },
  {
   "cell_type": "code",
   "execution_count": 6,
   "metadata": {},
   "outputs": [
    {
     "name": "stdout",
     "output_type": "stream",
     "text": [
      "<class 'pandas.core.frame.DataFrame'>\n",
      "RangeIndex: 735962 entries, 0 to 735961\n",
      "Data columns (total 15 columns):\n",
      " #   Column                Non-Null Count   Dtype  \n",
      "---  ------                --------------   -----  \n",
      " 0   Unnamed: 0            735962 non-null  int64  \n",
      " 1   BOOK_MASTR_SEQ_NO     735962 non-null  float64\n",
      " 2   ISBN_NO               735962 non-null  int64  \n",
      " 3   MUMM_LON_HALFLIFE_CO  735962 non-null  int64  \n",
      " 4   MXMM_LON_HALFLIFE_CO  735962 non-null  int64  \n",
      " 5   AVRG_LON_HALFLIFE_CO  735962 non-null  int64  \n",
      " 6   BOOK_CO               735962 non-null  int64  \n",
      " 7   CTRL_NO               735962 non-null  object \n",
      " 8   ISBN_THIRTEEN_NO      735962 non-null  int64  \n",
      " 9   TITLE_NM              735962 non-null  object \n",
      " 10  AUTHR_NM              735962 non-null  object \n",
      " 11  PUBLISHER_NM          735962 non-null  object \n",
      " 12  PBLCATE_DE            735960 non-null  object \n",
      " 13  IMAGE_URL             630919 non-null  object \n",
      " 14  LON_CO                735962 non-null  int64  \n",
      "dtypes: float64(1), int64(8), object(6)\n",
      "memory usage: 84.2+ MB\n"
     ]
    }
   ],
   "source": [
    "df2.info()"
   ]
  },
  {
   "cell_type": "code",
   "execution_count": 7,
   "metadata": {},
   "outputs": [],
   "source": [
    "df2 = df2[['ISBN_NO','LON_CO']]"
   ]
  },
  {
   "cell_type": "code",
   "execution_count": 8,
   "metadata": {},
   "outputs": [
    {
     "name": "stdout",
     "output_type": "stream",
     "text": [
      "<class 'pandas.core.frame.DataFrame'>\n",
      "RangeIndex: 735962 entries, 0 to 735961\n",
      "Data columns (total 2 columns):\n",
      " #   Column   Non-Null Count   Dtype\n",
      "---  ------   --------------   -----\n",
      " 0   ISBN_NO  735962 non-null  int64\n",
      " 1   LON_CO   735962 non-null  int64\n",
      "dtypes: int64(2)\n",
      "memory usage: 11.2 MB\n"
     ]
    }
   ],
   "source": [
    "df2.info()"
   ]
  },
  {
   "cell_type": "code",
   "execution_count": 9,
   "metadata": {},
   "outputs": [],
   "source": [
    "df3 = df3.dropna(subset=['KDC_NM'])"
   ]
  },
  {
   "cell_type": "code",
   "execution_count": 10,
   "metadata": {},
   "outputs": [
    {
     "name": "stdout",
     "output_type": "stream",
     "text": [
      "<class 'pandas.core.frame.DataFrame'>\n",
      "Int64Index: 592203 entries, 0 to 1103282\n",
      "Data columns (total 15 columns):\n",
      " #   Column                Non-Null Count   Dtype  \n",
      "---  ------                --------------   -----  \n",
      " 0   BOOK_MASTR_SEQ_NO     592203 non-null  int64  \n",
      " 1   ISBN_NO               592203 non-null  int64  \n",
      " 2   MUMM_LON_HALFLIFE_CO  592203 non-null  int64  \n",
      " 3   MXMM_LON_HALFLIFE_CO  592203 non-null  int64  \n",
      " 4   AVRG_LON_HALFLIFE_CO  592203 non-null  int64  \n",
      " 5   BOOK_CO               592203 non-null  int64  \n",
      " 6   ISBN_THIRTEEN_NO      592203 non-null  float64\n",
      " 7   TITLE_NM              592203 non-null  object \n",
      " 8   AUTHR_NM              589566 non-null  object \n",
      " 9   PUBLISHER_NM          544871 non-null  object \n",
      " 10  SEQ_NO                592203 non-null  float64\n",
      " 11  ADTION_SMBL_NM        547708 non-null  object \n",
      " 12  IMAGE_URL             458021 non-null  object \n",
      " 13  BOOK_INTRCN_CN        441178 non-null  object \n",
      " 14  KDC_NM                592203 non-null  object \n",
      "dtypes: float64(2), int64(6), object(7)\n",
      "memory usage: 72.3+ MB\n"
     ]
    }
   ],
   "source": [
    "df3.info()"
   ]
  },
  {
   "cell_type": "code",
   "execution_count": 11,
   "metadata": {},
   "outputs": [],
   "source": [
    "df4 = pd.merge(df3, df2, on=\"ISBN_NO\", how='inner')"
   ]
  },
  {
   "cell_type": "code",
   "execution_count": 12,
   "metadata": {},
   "outputs": [
    {
     "name": "stdout",
     "output_type": "stream",
     "text": [
      "<class 'pandas.core.frame.DataFrame'>\n",
      "Int64Index: 531802 entries, 0 to 531801\n",
      "Data columns (total 16 columns):\n",
      " #   Column                Non-Null Count   Dtype  \n",
      "---  ------                --------------   -----  \n",
      " 0   BOOK_MASTR_SEQ_NO     531802 non-null  int64  \n",
      " 1   ISBN_NO               531802 non-null  int64  \n",
      " 2   MUMM_LON_HALFLIFE_CO  531802 non-null  int64  \n",
      " 3   MXMM_LON_HALFLIFE_CO  531802 non-null  int64  \n",
      " 4   AVRG_LON_HALFLIFE_CO  531802 non-null  int64  \n",
      " 5   BOOK_CO               531802 non-null  int64  \n",
      " 6   ISBN_THIRTEEN_NO      531802 non-null  float64\n",
      " 7   TITLE_NM              531802 non-null  object \n",
      " 8   AUTHR_NM              531774 non-null  object \n",
      " 9   PUBLISHER_NM          528668 non-null  object \n",
      " 10  SEQ_NO                531802 non-null  float64\n",
      " 11  ADTION_SMBL_NM        521645 non-null  object \n",
      " 12  IMAGE_URL             448132 non-null  object \n",
      " 13  BOOK_INTRCN_CN        435702 non-null  object \n",
      " 14  KDC_NM                531802 non-null  object \n",
      " 15  LON_CO                531802 non-null  int64  \n",
      "dtypes: float64(2), int64(7), object(7)\n",
      "memory usage: 69.0+ MB\n"
     ]
    }
   ],
   "source": [
    "df4.info()"
   ]
  },
  {
   "cell_type": "code",
   "execution_count": 13,
   "metadata": {},
   "outputs": [
    {
     "name": "stdout",
     "output_type": "stream",
     "text": [
      "<class 'pandas.core.frame.DataFrame'>\n",
      "RangeIndex: 128584 entries, 0 to 128583\n",
      "Data columns (total 3 columns):\n",
      " #   Column      Non-Null Count   Dtype \n",
      "---  ------      --------------   ----- \n",
      " 0   Unnamed: 0  128584 non-null  int64 \n",
      " 1   ISBN_NO     128584 non-null  object\n",
      " 2   Combined    128584 non-null  object\n",
      "dtypes: int64(1), object(2)\n",
      "memory usage: 2.9+ MB\n"
     ]
    }
   ],
   "source": [
    "df1.info()"
   ]
  },
  {
   "cell_type": "code",
   "execution_count": 14,
   "metadata": {},
   "outputs": [],
   "source": [
    "df1.drop('Unnamed: 0', axis=1, inplace=True)"
   ]
  },
  {
   "cell_type": "code",
   "execution_count": 15,
   "metadata": {},
   "outputs": [],
   "source": [
    "df4['ISBN_NO']= df4['ISBN_NO'].astype(str)"
   ]
  },
  {
   "cell_type": "code",
   "execution_count": 16,
   "metadata": {},
   "outputs": [],
   "source": [
    "df = pd.merge(df4, df1, on=\"ISBN_NO\", how=\"left\")"
   ]
  },
  {
   "cell_type": "code",
   "execution_count": 17,
   "metadata": {},
   "outputs": [
    {
     "name": "stdout",
     "output_type": "stream",
     "text": [
      "<class 'pandas.core.frame.DataFrame'>\n",
      "Int64Index: 532952 entries, 0 to 532951\n",
      "Data columns (total 17 columns):\n",
      " #   Column                Non-Null Count   Dtype  \n",
      "---  ------                --------------   -----  \n",
      " 0   BOOK_MASTR_SEQ_NO     532952 non-null  int64  \n",
      " 1   ISBN_NO               532952 non-null  object \n",
      " 2   MUMM_LON_HALFLIFE_CO  532952 non-null  int64  \n",
      " 3   MXMM_LON_HALFLIFE_CO  532952 non-null  int64  \n",
      " 4   AVRG_LON_HALFLIFE_CO  532952 non-null  int64  \n",
      " 5   BOOK_CO               532952 non-null  int64  \n",
      " 6   ISBN_THIRTEEN_NO      532952 non-null  float64\n",
      " 7   TITLE_NM              532952 non-null  object \n",
      " 8   AUTHR_NM              532924 non-null  object \n",
      " 9   PUBLISHER_NM          529818 non-null  object \n",
      " 10  SEQ_NO                532952 non-null  float64\n",
      " 11  ADTION_SMBL_NM        522791 non-null  object \n",
      " 12  IMAGE_URL             449282 non-null  object \n",
      " 13  BOOK_INTRCN_CN        436845 non-null  object \n",
      " 14  KDC_NM                532952 non-null  object \n",
      " 15  LON_CO                532952 non-null  int64  \n",
      " 16  Combined              76835 non-null   object \n",
      "dtypes: float64(2), int64(6), object(9)\n",
      "memory usage: 73.2+ MB\n"
     ]
    }
   ],
   "source": [
    "df.info()"
   ]
  },
  {
   "cell_type": "code",
   "execution_count": 18,
   "metadata": {},
   "outputs": [],
   "source": [
    "# 첫 번째 글자 추출하는 함수 정의\n",
    "def get_first_character(data):\n",
    "    return str(data)[0]\n",
    "\n",
    "# 첫 번째, 두 번째 글자 추출하는 함수 정의\n",
    "def get_first_two_characters(data):\n",
    "    return str(data)[:2]\n",
    "\n",
    "def get_fst_characters(data):\n",
    "    return str(data)[:3]\n",
    "\n",
    "# 첫 번째 글자 추출하여 새로운 칼럼 생성\n",
    "df['KDC_1'] = df['KDC_NM'].apply(get_first_character)\n",
    "\n",
    "# 첫 번째, 두 번째 글자 추출하여 새로운 칼럼 생성\n",
    "df['KDC_12'] = df['KDC_NM'].apply(get_first_two_characters)\n",
    "\n",
    "df['KDC_123'] = df['KDC_NM'].apply(get_fst_characters)\n"
   ]
  },
  {
   "cell_type": "code",
   "execution_count": 19,
   "metadata": {},
   "outputs": [
    {
     "data": {
      "text/html": [
       "<div>\n",
       "<style scoped>\n",
       "    .dataframe tbody tr th:only-of-type {\n",
       "        vertical-align: middle;\n",
       "    }\n",
       "\n",
       "    .dataframe tbody tr th {\n",
       "        vertical-align: top;\n",
       "    }\n",
       "\n",
       "    .dataframe thead th {\n",
       "        text-align: right;\n",
       "    }\n",
       "</style>\n",
       "<table border=\"1\" class=\"dataframe\">\n",
       "  <thead>\n",
       "    <tr style=\"text-align: right;\">\n",
       "      <th></th>\n",
       "      <th>BOOK_MASTR_SEQ_NO</th>\n",
       "      <th>ISBN_NO</th>\n",
       "      <th>MUMM_LON_HALFLIFE_CO</th>\n",
       "      <th>MXMM_LON_HALFLIFE_CO</th>\n",
       "      <th>AVRG_LON_HALFLIFE_CO</th>\n",
       "      <th>BOOK_CO</th>\n",
       "      <th>ISBN_THIRTEEN_NO</th>\n",
       "      <th>TITLE_NM</th>\n",
       "      <th>AUTHR_NM</th>\n",
       "      <th>PUBLISHER_NM</th>\n",
       "      <th>SEQ_NO</th>\n",
       "      <th>ADTION_SMBL_NM</th>\n",
       "      <th>IMAGE_URL</th>\n",
       "      <th>BOOK_INTRCN_CN</th>\n",
       "      <th>KDC_NM</th>\n",
       "      <th>LON_CO</th>\n",
       "      <th>Combined</th>\n",
       "      <th>KDC_1</th>\n",
       "      <th>KDC_12</th>\n",
       "      <th>KDC_123</th>\n",
       "    </tr>\n",
       "  </thead>\n",
       "  <tbody>\n",
       "    <tr>\n",
       "      <th>155305</th>\n",
       "      <td>1279683</td>\n",
       "      <td>9788981070519</td>\n",
       "      <td>701777</td>\n",
       "      <td>701777</td>\n",
       "      <td>701777</td>\n",
       "      <td>1</td>\n",
       "      <td>9.788981e+12</td>\n",
       "      <td>朝鮮後期 歷史地理學 硏究</td>\n",
       "      <td>朴仁鎬 著</td>\n",
       "      <td>以會文化社</td>\n",
       "      <td>1279683.0</td>\n",
       "      <td>93910.0</td>\n",
       "      <td>NaN</td>\n",
       "      <td>조선 후기에 편찬된 역사서 가운데 역사지리 방면에  전문성을 지닌 책들을 대상으로 ...</td>\n",
       "      <td>981.1</td>\n",
       "      <td>39</td>\n",
       "      <td>NaN</td>\n",
       "      <td>9</td>\n",
       "      <td>98</td>\n",
       "      <td>981</td>\n",
       "    </tr>\n",
       "    <tr>\n",
       "      <th>172843</th>\n",
       "      <td>1332391</td>\n",
       "      <td>9788986596120</td>\n",
       "      <td>701979</td>\n",
       "      <td>701979</td>\n",
       "      <td>701979</td>\n",
       "      <td>1</td>\n",
       "      <td>9.788987e+12</td>\n",
       "      <td>상처 받은 영혼들에게 띄우는 편지</td>\n",
       "      <td>김영근 지음</td>\n",
       "      <td>기가연</td>\n",
       "      <td>1332391.0</td>\n",
       "      <td>3230.0</td>\n",
       "      <td>NaN</td>\n",
       "      <td>실패한 아들에게 격려를, 느낌이 좋지 않은 사람을 만날 때, 왜 가까운 사람들에게 ...</td>\n",
       "      <td>235.35</td>\n",
       "      <td>64</td>\n",
       "      <td>NaN</td>\n",
       "      <td>2</td>\n",
       "      <td>23</td>\n",
       "      <td>235</td>\n",
       "    </tr>\n",
       "  </tbody>\n",
       "</table>\n",
       "</div>"
      ],
      "text/plain": [
       "        BOOK_MASTR_SEQ_NO        ISBN_NO  MUMM_LON_HALFLIFE_CO  \\\n",
       "155305            1279683  9788981070519                701777   \n",
       "172843            1332391  9788986596120                701979   \n",
       "\n",
       "        MXMM_LON_HALFLIFE_CO  AVRG_LON_HALFLIFE_CO  BOOK_CO  ISBN_THIRTEEN_NO  \\\n",
       "155305                701777                701777        1      9.788981e+12   \n",
       "172843                701979                701979        1      9.788987e+12   \n",
       "\n",
       "                  TITLE_NM AUTHR_NM PUBLISHER_NM     SEQ_NO ADTION_SMBL_NM  \\\n",
       "155305       朝鮮後期 歷史地理學 硏究    朴仁鎬 著        以會文化社  1279683.0        93910.0   \n",
       "172843  상처 받은 영혼들에게 띄우는 편지   김영근 지음          기가연  1332391.0         3230.0   \n",
       "\n",
       "       IMAGE_URL                                     BOOK_INTRCN_CN  KDC_NM  \\\n",
       "155305       NaN  조선 후기에 편찬된 역사서 가운데 역사지리 방면에  전문성을 지닌 책들을 대상으로 ...   981.1   \n",
       "172843       NaN  실패한 아들에게 격려를, 느낌이 좋지 않은 사람을 만날 때, 왜 가까운 사람들에게 ...  235.35   \n",
       "\n",
       "        LON_CO Combined KDC_1 KDC_12 KDC_123  \n",
       "155305      39      NaN     9     98     981  \n",
       "172843      64      NaN     2     23     235  "
      ]
     },
     "execution_count": 19,
     "metadata": {},
     "output_type": "execute_result"
    }
   ],
   "source": [
    "df[df['MUMM_LON_HALFLIFE_CO']>100000]"
   ]
  },
  {
   "cell_type": "code",
   "execution_count": 20,
   "metadata": {},
   "outputs": [
    {
     "name": "stderr",
     "output_type": "stream",
     "text": [
      "C:\\Users\\mkh08\\AppData\\Local\\Temp\\ipykernel_12616\\1224130881.py:1: SettingWithCopyWarning: \n",
      "A value is trying to be set on a copy of a slice from a DataFrame\n",
      "\n",
      "See the caveats in the documentation: https://pandas.pydata.org/pandas-docs/stable/user_guide/indexing.html#returning-a-view-versus-a-copy\n",
      "  df['MUMM_LON_HALFLIFE_CO'][155305] = 777\n",
      "C:\\Users\\mkh08\\AppData\\Local\\Temp\\ipykernel_12616\\1224130881.py:2: SettingWithCopyWarning: \n",
      "A value is trying to be set on a copy of a slice from a DataFrame\n",
      "\n",
      "See the caveats in the documentation: https://pandas.pydata.org/pandas-docs/stable/user_guide/indexing.html#returning-a-view-versus-a-copy\n",
      "  df['MXMM_LON_HALFLIFE_CO'][155305] = 777\n",
      "C:\\Users\\mkh08\\AppData\\Local\\Temp\\ipykernel_12616\\1224130881.py:3: SettingWithCopyWarning: \n",
      "A value is trying to be set on a copy of a slice from a DataFrame\n",
      "\n",
      "See the caveats in the documentation: https://pandas.pydata.org/pandas-docs/stable/user_guide/indexing.html#returning-a-view-versus-a-copy\n",
      "  df['AVRG_LON_HALFLIFE_CO'][155305] = 777\n"
     ]
    }
   ],
   "source": [
    "df['MUMM_LON_HALFLIFE_CO'][155305] = 777\n",
    "df['MXMM_LON_HALFLIFE_CO'][155305] = 777\n",
    "df['AVRG_LON_HALFLIFE_CO'][155305] = 777"
   ]
  },
  {
   "cell_type": "code",
   "execution_count": 21,
   "metadata": {},
   "outputs": [
    {
     "name": "stderr",
     "output_type": "stream",
     "text": [
      "C:\\Users\\mkh08\\AppData\\Local\\Temp\\ipykernel_12616\\487037168.py:1: SettingWithCopyWarning: \n",
      "A value is trying to be set on a copy of a slice from a DataFrame\n",
      "\n",
      "See the caveats in the documentation: https://pandas.pydata.org/pandas-docs/stable/user_guide/indexing.html#returning-a-view-versus-a-copy\n",
      "  df['MUMM_LON_HALFLIFE_CO'][172843] = 979\n",
      "C:\\Users\\mkh08\\AppData\\Local\\Temp\\ipykernel_12616\\487037168.py:2: SettingWithCopyWarning: \n",
      "A value is trying to be set on a copy of a slice from a DataFrame\n",
      "\n",
      "See the caveats in the documentation: https://pandas.pydata.org/pandas-docs/stable/user_guide/indexing.html#returning-a-view-versus-a-copy\n",
      "  df['MXMM_LON_HALFLIFE_CO'][172843] = 979\n",
      "C:\\Users\\mkh08\\AppData\\Local\\Temp\\ipykernel_12616\\487037168.py:3: SettingWithCopyWarning: \n",
      "A value is trying to be set on a copy of a slice from a DataFrame\n",
      "\n",
      "See the caveats in the documentation: https://pandas.pydata.org/pandas-docs/stable/user_guide/indexing.html#returning-a-view-versus-a-copy\n",
      "  df['AVRG_LON_HALFLIFE_CO'][172843] = 979\n"
     ]
    }
   ],
   "source": [
    "df['MUMM_LON_HALFLIFE_CO'][172843] = 979\n",
    "df['MXMM_LON_HALFLIFE_CO'][172843] = 979\n",
    "df['AVRG_LON_HALFLIFE_CO'][172843] = 979"
   ]
  },
  {
   "cell_type": "code",
   "execution_count": 28,
   "metadata": {},
   "outputs": [],
   "source": [
    "df.to_csv(\"total.csv\")"
   ]
  },
  {
   "cell_type": "code",
   "execution_count": 24,
   "metadata": {},
   "outputs": [
    {
     "data": {
      "text/plain": [
       "Index(['BOOK_MASTR_SEQ_NO', 'ISBN_NO', 'MUMM_LON_HALFLIFE_CO',\n",
       "       'MXMM_LON_HALFLIFE_CO', 'AVRG_LON_HALFLIFE_CO', 'BOOK_CO',\n",
       "       'ISBN_THIRTEEN_NO', 'TITLE_NM', 'AUTHR_NM', 'PUBLISHER_NM', 'SEQ_NO',\n",
       "       'ADTION_SMBL_NM', 'IMAGE_URL', 'BOOK_INTRCN_CN', 'KDC_NM', 'LON_CO',\n",
       "       'Combined', 'KDC_1', 'KDC_12', 'KDC_123'],\n",
       "      dtype='object')"
      ]
     },
     "execution_count": 24,
     "metadata": {},
     "output_type": "execute_result"
    }
   ],
   "source": [
    "df.columns"
   ]
  },
  {
   "cell_type": "code",
   "execution_count": 29,
   "metadata": {},
   "outputs": [],
   "source": [
    "db = df[['ISBN_NO', 'MUMM_LON_HALFLIFE_CO','TITLE_NM','AUTHR_NM','PUBLISHER_NM','BOOK_INTRCN_CN','Combined','KDC_1']]"
   ]
  },
  {
   "cell_type": "code",
   "execution_count": 57,
   "metadata": {},
   "outputs": [],
   "source": [
    "db.to_csv('db.csv', encoding=\"utf8\")"
   ]
  },
  {
   "cell_type": "code",
   "execution_count": 58,
   "metadata": {},
   "outputs": [],
   "source": [
    "db.to_json(\"db.json\", orient = 'table)"
   ]
  },
  {
   "cell_type": "code",
   "execution_count": 60,
   "metadata": {},
   "outputs": [],
   "source": [
    "test_db = db.head()"
   ]
  },
  {
   "cell_type": "code",
   "execution_count": 62,
   "metadata": {},
   "outputs": [],
   "source": [
    "test_db.to_csv('test_db.csv', encoding=\"utf8\")"
   ]
  },
  {
   "cell_type": "code",
   "execution_count": 61,
   "metadata": {},
   "outputs": [],
   "source": [
    "test_db.to_json(\"test_db.json\", orient = 'table')"
   ]
  },
  {
   "cell_type": "code",
   "execution_count": 37,
   "metadata": {},
   "outputs": [
    {
     "name": "stdout",
     "output_type": "stream",
     "text": [
      "Requirement already satisfied: pymysql in c:\\users\\mkh08\\miniconda3\\envs\\py3.10\\lib\\site-packages (1.0.3)\n"
     ]
    }
   ],
   "source": [
    "# !pip install sqlalchemy \n",
    "#!pip install pymysql"
   ]
  },
  {
   "cell_type": "code",
   "execution_count": 40,
   "metadata": {},
   "outputs": [],
   "source": [
    "import pymysql\n",
    "from sqlalchemy import create_engine\n",
    "pymysql.install_as_MySQLdb()\n",
    "import MySQLdb\n"
   ]
  },
  {
   "cell_type": "code",
   "execution_count": 49,
   "metadata": {},
   "outputs": [
    {
     "name": "stdout",
     "output_type": "stream",
     "text": [
      "database connect success\n",
      "Execution failed on sql 'SELECT name FROM sqlite_master WHERE type='table' AND name=?;': not all arguments converted during string formatting\n",
      "연결 종료\n"
     ]
    }
   ],
   "source": [
    "def DBconnect():\n",
    "    global cur, conn\n",
    "    try:\n",
    "        conn = pymysql.connect(host='localhost', user='root', password='1234', db='library', charset='utf8')\n",
    "        cur = conn.cursor()\n",
    "        print(\"database connect success\")\n",
    "        return cur, conn\n",
    "    except Exception as error:\n",
    "        print(str(error))\n",
    "\n",
    "def dbcommit():\n",
    "    try:\n",
    "        conn.commit()\n",
    "    except:\n",
    "        print(\"에러: \", \"데이터 베이스 연결되어 있지 않음\")\n",
    "\n",
    "def dbdisconnect():\n",
    "    try:\n",
    "        conn.close()\n",
    "        cur.close()\n",
    "        print(\"연결 종료\")\n",
    "    except:\n",
    "        print(\"연결이 되어있지 않음\")\n",
    "\n",
    "def upload_df_to_db(df, table_name):\n",
    "    try:\n",
    "        DBconnect()\n",
    "        df.to_sql(name=table_name, con=conn, if_exists='replace', index=False)\n",
    "        dbcommit()\n",
    "    except Exception as error:\n",
    "        print(str(error))\n",
    "    finally:\n",
    "        dbdisconnect()\n",
    "\n",
    "try:\n",
    "    # DBconnect()\n",
    "    # dbdisconnect()\n",
    "    upload_df_to_db(db, 'library')\n",
    "except Exception as error:\n",
    "    print(str(error))\n"
   ]
  },
  {
   "cell_type": "code",
   "execution_count": 56,
   "metadata": {},
   "outputs": [
    {
     "name": "stdout",
     "output_type": "stream",
     "text": [
      "database connect success\n",
      "Execution failed on sql 'SELECT name FROM sqlite_master WHERE type='table' AND name=?;': not all arguments converted during string formatting\n",
      "연결 종료\n"
     ]
    }
   ],
   "source": [
    "import pymysql\n",
    "\n",
    "def DBconnect():\n",
    "    global cur, conn\n",
    "    try:\n",
    "        conn = pymysql.connect(host='localhost', user='root', password='1234', db='library', charset='utf8')\n",
    "        cur = conn.cursor()\n",
    "        print(\"database connect success\")\n",
    "    except Exception as error:\n",
    "        print(str(error))\n",
    "\n",
    "def dbcommit():\n",
    "    try:\n",
    "        conn.commit()\n",
    "    except:\n",
    "        print(\"에러: \", \"데이터 베이스 연결되어 있지 않음\")\n",
    "\n",
    "def dbdisconnect():\n",
    "    try:\n",
    "        conn.close()\n",
    "        cur.close()\n",
    "        print(\"연결 종료\")\n",
    "    except:\n",
    "        print(\"연결이 되어있지 않음\")\n",
    "\n",
    "def upload_df_to_db(df, table_name):\n",
    "    try:\n",
    "        DBconnect()\n",
    "        df.to_sql(name=table_name, con=conn, if_exists='replace', index=False)\n",
    "        dbcommit()\n",
    "    except Exception as error:\n",
    "        print(str(error))\n",
    "    finally:\n",
    "        dbdisconnect()\n",
    "\n",
    "def main():\n",
    "    df = pd.DataFrame({'name': ['John Doe', 'Jane Doe', 'John Smith'], 'age': [30, 25, 40]})\n",
    "    upload_df_to_db(df, 'library')\n",
    "\n",
    "if __name__ == '__main__':\n",
    "    main()"
   ]
  }
 ],
 "metadata": {
  "kernelspec": {
   "display_name": "Python 3",
   "language": "python",
   "name": "python3"
  },
  "language_info": {
   "codemirror_mode": {
    "name": "ipython",
    "version": 3
   },
   "file_extension": ".py",
   "mimetype": "text/x-python",
   "name": "python",
   "nbconvert_exporter": "python",
   "pygments_lexer": "ipython3",
   "version": "3.11.4"
  },
  "orig_nbformat": 4
 },
 "nbformat": 4,
 "nbformat_minor": 2
}
