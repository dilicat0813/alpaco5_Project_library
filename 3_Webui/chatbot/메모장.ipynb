{
 "cells": [
  {
   "cell_type": "code",
   "execution_count": 2,
   "metadata": {},
   "outputs": [
    {
     "name": "stdout",
     "output_type": "stream",
     "text": [
      "Note: you may need to restart the kernel to use updated packages.\n"
     ]
    },
    {
     "name": "stderr",
     "output_type": "stream",
     "text": [
      "ERROR: Could not find a version that satisfies the requirement openai-python (from versions: none)\n",
      "ERROR: No matching distribution found for openai-python\n"
     ]
    }
   ],
   "source": [
    "pip install openai-python"
   ]
  },
  {
   "cell_type": "code",
   "execution_count": 1,
   "metadata": {},
   "outputs": [],
   "source": [
    "import pandas as pd"
   ]
  },
  {
   "cell_type": "code",
   "execution_count": 3,
   "metadata": {},
   "outputs": [
    {
     "name": "stderr",
     "output_type": "stream",
     "text": [
      "C:\\Users\\whdrk\\AppData\\Local\\Temp\\ipykernel_3952\\22743089.py:1: DtypeWarning: Columns (12,15,18,19,20) have mixed types. Specify dtype option on import or set low_memory=False.\n",
      "  df_total = pd.read_csv(\"C:/Users/whdrk/OneDrive/문서/GitHub/alpaco5_Project_library/1_DB/data/total.csv\")\n"
     ]
    },
    {
     "name": "stdout",
     "output_type": "stream",
     "text": [
      "<class 'pandas.core.frame.DataFrame'>\n",
      "RangeIndex: 532952 entries, 0 to 532951\n",
      "Data columns (total 9 columns):\n",
      " #   Column                Non-Null Count   Dtype \n",
      "---  ------                --------------   ----- \n",
      " 0   Unnamed: 0            532952 non-null  int64 \n",
      " 1   ISBN_NO               532952 non-null  int64 \n",
      " 2   MUMM_LON_HALFLIFE_CO  532952 non-null  int64 \n",
      " 3   TITLE_NM              532952 non-null  object\n",
      " 4   AUTHR_NM              532924 non-null  object\n",
      " 5   PUBLISHER_NM          529818 non-null  object\n",
      " 6   BOOK_INTRCN_CN        436845 non-null  object\n",
      " 7   Combined              76835 non-null   object\n",
      " 8   KDC_1                 532952 non-null  object\n",
      "dtypes: int64(3), object(6)\n",
      "memory usage: 36.6+ MB\n"
     ]
    },
    {
     "name": "stderr",
     "output_type": "stream",
     "text": [
      "C:\\Users\\whdrk\\AppData\\Local\\Temp\\ipykernel_3952\\22743089.py:2: DtypeWarning: Columns (8) have mixed types. Specify dtype option on import or set low_memory=False.\n",
      "  df = pd.read_csv(\"helper/data/db.csv\")\n"
     ]
    }
   ],
   "source": [
    "df_total = pd.read_csv(\"C:/Users/whdrk/OneDrive/문서/GitHub/alpaco5_Project_library/1_DB/data/total.csv\")\n",
    "df = pd.read_csv(\"helper/data/db.csv\")"
   ]
  },
  {
   "cell_type": "code",
   "execution_count": 5,
   "metadata": {},
   "outputs": [
    {
     "data": {
      "text/plain": [
       "Index(['Unnamed: 0', 'ISBN_NO', 'MUMM_LON_HALFLIFE_CO', 'TITLE_NM', 'AUTHR_NM',\n",
       "       'PUBLISHER_NM', 'BOOK_INTRCN_CN', 'Combined', 'KDC_1'],\n",
       "      dtype='object')"
      ]
     },
     "execution_count": 5,
     "metadata": {},
     "output_type": "execute_result"
    }
   ],
   "source": [
    "df.columns"
   ]
  },
  {
   "cell_type": "code",
   "execution_count": 4,
   "metadata": {},
   "outputs": [
    {
     "data": {
      "text/plain": [
       "Index(['Unnamed: 0', 'BOOK_MASTR_SEQ_NO', 'ISBN_NO', 'MUMM_LON_HALFLIFE_CO',\n",
       "       'MXMM_LON_HALFLIFE_CO', 'AVRG_LON_HALFLIFE_CO', 'BOOK_CO',\n",
       "       'ISBN_THIRTEEN_NO', 'TITLE_NM', 'AUTHR_NM', 'PUBLISHER_NM', 'SEQ_NO',\n",
       "       'ADTION_SMBL_NM', 'IMAGE_URL', 'BOOK_INTRCN_CN', 'KDC_NM', 'LON_CO',\n",
       "       'Combined', 'KDC_1', 'KDC_12', 'KDC_123'],\n",
       "      dtype='object')"
      ]
     },
     "execution_count": 4,
     "metadata": {},
     "output_type": "execute_result"
    }
   ],
   "source": [
    "df_total.columns"
   ]
  },
  {
   "cell_type": "code",
   "execution_count": 34,
   "metadata": {},
   "outputs": [
    {
     "data": {
      "text/html": [
       "<div>\n",
       "<style scoped>\n",
       "    .dataframe tbody tr th:only-of-type {\n",
       "        vertical-align: middle;\n",
       "    }\n",
       "\n",
       "    .dataframe tbody tr th {\n",
       "        vertical-align: top;\n",
       "    }\n",
       "\n",
       "    .dataframe thead th {\n",
       "        text-align: right;\n",
       "    }\n",
       "</style>\n",
       "<table border=\"1\" class=\"dataframe\">\n",
       "  <thead>\n",
       "    <tr style=\"text-align: right;\">\n",
       "      <th></th>\n",
       "      <th>Unnamed: 0</th>\n",
       "      <th>BOOK_MASTR_SEQ_NO</th>\n",
       "      <th>ISBN_NO</th>\n",
       "      <th>MUMM_LON_HALFLIFE_CO</th>\n",
       "      <th>MXMM_LON_HALFLIFE_CO</th>\n",
       "      <th>AVRG_LON_HALFLIFE_CO</th>\n",
       "      <th>BOOK_CO</th>\n",
       "      <th>ISBN_THIRTEEN_NO</th>\n",
       "      <th>TITLE_NM</th>\n",
       "      <th>AUTHR_NM</th>\n",
       "      <th>...</th>\n",
       "      <th>SEQ_NO</th>\n",
       "      <th>ADTION_SMBL_NM</th>\n",
       "      <th>IMAGE_URL</th>\n",
       "      <th>BOOK_INTRCN_CN</th>\n",
       "      <th>KDC_NM</th>\n",
       "      <th>LON_CO</th>\n",
       "      <th>Combined</th>\n",
       "      <th>KDC_1</th>\n",
       "      <th>KDC_12</th>\n",
       "      <th>KDC_123</th>\n",
       "    </tr>\n",
       "  </thead>\n",
       "  <tbody>\n",
       "  </tbody>\n",
       "</table>\n",
       "<p>0 rows × 21 columns</p>\n",
       "</div>"
      ],
      "text/plain": [
       "Empty DataFrame\n",
       "Columns: [Unnamed: 0, BOOK_MASTR_SEQ_NO, ISBN_NO, MUMM_LON_HALFLIFE_CO, MXMM_LON_HALFLIFE_CO, AVRG_LON_HALFLIFE_CO, BOOK_CO, ISBN_THIRTEEN_NO, TITLE_NM, AUTHR_NM, PUBLISHER_NM, SEQ_NO, ADTION_SMBL_NM, IMAGE_URL, BOOK_INTRCN_CN, KDC_NM, LON_CO, Combined, KDC_1, KDC_12, KDC_123]\n",
       "Index: []\n",
       "\n",
       "[0 rows x 21 columns]"
      ]
     },
     "execution_count": 34,
     "metadata": {},
     "output_type": "execute_result"
    }
   ],
   "source": [
    "df_total[df_total['LON_CO'] > 6500]"
   ]
  },
  {
   "cell_type": "code",
   "execution_count": 15,
   "metadata": {},
   "outputs": [],
   "source": [
    "df_total.drop(df_total[df_total['LON_CO'] > 6500].index,inplace=True)"
   ]
  },
  {
   "cell_type": "code",
   "execution_count": 32,
   "metadata": {},
   "outputs": [
    {
     "data": {
      "text/html": [
       "<div>\n",
       "<style scoped>\n",
       "    .dataframe tbody tr th:only-of-type {\n",
       "        vertical-align: middle;\n",
       "    }\n",
       "\n",
       "    .dataframe tbody tr th {\n",
       "        vertical-align: top;\n",
       "    }\n",
       "\n",
       "    .dataframe thead th {\n",
       "        text-align: right;\n",
       "    }\n",
       "</style>\n",
       "<table border=\"1\" class=\"dataframe\">\n",
       "  <thead>\n",
       "    <tr style=\"text-align: right;\">\n",
       "      <th></th>\n",
       "      <th>Unnamed: 0</th>\n",
       "      <th>BOOK_MASTR_SEQ_NO</th>\n",
       "      <th>ISBN_NO</th>\n",
       "      <th>MUMM_LON_HALFLIFE_CO</th>\n",
       "      <th>MXMM_LON_HALFLIFE_CO</th>\n",
       "      <th>AVRG_LON_HALFLIFE_CO</th>\n",
       "      <th>BOOK_CO</th>\n",
       "      <th>ISBN_THIRTEEN_NO</th>\n",
       "      <th>TITLE_NM</th>\n",
       "      <th>AUTHR_NM</th>\n",
       "      <th>...</th>\n",
       "      <th>SEQ_NO</th>\n",
       "      <th>ADTION_SMBL_NM</th>\n",
       "      <th>IMAGE_URL</th>\n",
       "      <th>BOOK_INTRCN_CN</th>\n",
       "      <th>KDC_NM</th>\n",
       "      <th>LON_CO</th>\n",
       "      <th>Combined</th>\n",
       "      <th>KDC_1</th>\n",
       "      <th>KDC_12</th>\n",
       "      <th>KDC_123</th>\n",
       "    </tr>\n",
       "  </thead>\n",
       "  <tbody>\n",
       "  </tbody>\n",
       "</table>\n",
       "<p>0 rows × 21 columns</p>\n",
       "</div>"
      ],
      "text/plain": [
       "Empty DataFrame\n",
       "Columns: [Unnamed: 0, BOOK_MASTR_SEQ_NO, ISBN_NO, MUMM_LON_HALFLIFE_CO, MXMM_LON_HALFLIFE_CO, AVRG_LON_HALFLIFE_CO, BOOK_CO, ISBN_THIRTEEN_NO, TITLE_NM, AUTHR_NM, PUBLISHER_NM, SEQ_NO, ADTION_SMBL_NM, IMAGE_URL, BOOK_INTRCN_CN, KDC_NM, LON_CO, Combined, KDC_1, KDC_12, KDC_123]\n",
       "Index: []\n",
       "\n",
       "[0 rows x 21 columns]"
      ]
     },
     "execution_count": 32,
     "metadata": {},
     "output_type": "execute_result"
    }
   ],
   "source": [
    "df_total[df_total['MUMM_LON_HALFLIFE_CO'] > 6000]"
   ]
  },
  {
   "cell_type": "code",
   "execution_count": 33,
   "metadata": {},
   "outputs": [
    {
     "data": {
      "text/html": [
       "<div>\n",
       "<style scoped>\n",
       "    .dataframe tbody tr th:only-of-type {\n",
       "        vertical-align: middle;\n",
       "    }\n",
       "\n",
       "    .dataframe tbody tr th {\n",
       "        vertical-align: top;\n",
       "    }\n",
       "\n",
       "    .dataframe thead th {\n",
       "        text-align: right;\n",
       "    }\n",
       "</style>\n",
       "<table border=\"1\" class=\"dataframe\">\n",
       "  <thead>\n",
       "    <tr style=\"text-align: right;\">\n",
       "      <th></th>\n",
       "      <th>Unnamed: 0</th>\n",
       "      <th>BOOK_MASTR_SEQ_NO</th>\n",
       "      <th>ISBN_NO</th>\n",
       "      <th>MUMM_LON_HALFLIFE_CO</th>\n",
       "      <th>MXMM_LON_HALFLIFE_CO</th>\n",
       "      <th>AVRG_LON_HALFLIFE_CO</th>\n",
       "      <th>BOOK_CO</th>\n",
       "      <th>ISBN_THIRTEEN_NO</th>\n",
       "      <th>TITLE_NM</th>\n",
       "      <th>AUTHR_NM</th>\n",
       "      <th>...</th>\n",
       "      <th>SEQ_NO</th>\n",
       "      <th>ADTION_SMBL_NM</th>\n",
       "      <th>IMAGE_URL</th>\n",
       "      <th>BOOK_INTRCN_CN</th>\n",
       "      <th>KDC_NM</th>\n",
       "      <th>LON_CO</th>\n",
       "      <th>Combined</th>\n",
       "      <th>KDC_1</th>\n",
       "      <th>KDC_12</th>\n",
       "      <th>KDC_123</th>\n",
       "    </tr>\n",
       "  </thead>\n",
       "  <tbody>\n",
       "  </tbody>\n",
       "</table>\n",
       "<p>0 rows × 21 columns</p>\n",
       "</div>"
      ],
      "text/plain": [
       "Empty DataFrame\n",
       "Columns: [Unnamed: 0, BOOK_MASTR_SEQ_NO, ISBN_NO, MUMM_LON_HALFLIFE_CO, MXMM_LON_HALFLIFE_CO, AVRG_LON_HALFLIFE_CO, BOOK_CO, ISBN_THIRTEEN_NO, TITLE_NM, AUTHR_NM, PUBLISHER_NM, SEQ_NO, ADTION_SMBL_NM, IMAGE_URL, BOOK_INTRCN_CN, KDC_NM, LON_CO, Combined, KDC_1, KDC_12, KDC_123]\n",
       "Index: []\n",
       "\n",
       "[0 rows x 21 columns]"
      ]
     },
     "execution_count": 33,
     "metadata": {},
     "output_type": "execute_result"
    }
   ],
   "source": [
    "df_total[df_total['MUMM_LON_HALFLIFE_CO'] < 490]"
   ]
  },
  {
   "cell_type": "code",
   "execution_count": 27,
   "metadata": {},
   "outputs": [],
   "source": [
    "#df_total.drop(df_total[df_total['MUMM_LON_HALFLIFE_CO'] > 6000].index,inplace=True)"
   ]
  },
  {
   "cell_type": "code",
   "execution_count": 28,
   "metadata": {},
   "outputs": [],
   "source": [
    "#df_total.drop(df_total[df_total['MUMM_LON_HALFLIFE_CO'] < 490].index,inplace=True)"
   ]
  },
  {
   "cell_type": "code",
   "execution_count": 31,
   "metadata": {},
   "outputs": [],
   "source": [
    "#df_total.to_csv(\"total_modified.csv\", index = False)"
   ]
  },
  {
   "cell_type": "code",
   "execution_count": 37,
   "metadata": {},
   "outputs": [],
   "source": [
    "#df_total.drop([\"BOOK_MASTR_SEQ_NO\",\"MXMM_LON_HALFLIFE_CO\",\"AVRG_LON_HALFLIFE_CO\",\"BOOK_CO\",\"ISBN_THIRTEEN_NO\"], axis=1,inplace=True)"
   ]
  },
  {
   "cell_type": "code",
   "execution_count": 38,
   "metadata": {},
   "outputs": [],
   "source": [
    "#df_total.drop(['SEQ_NO','ADTION_SMBL_NM','IMAGE_URL','KDC_NM','LON_CO','KDC_12', 'KDC_123'], axis=1,inplace=True)"
   ]
  },
  {
   "cell_type": "code",
   "execution_count": 1,
   "metadata": {},
   "outputs": [
    {
     "ename": "NameError",
     "evalue": "name 'df_total' is not defined",
     "output_type": "error",
     "traceback": [
      "\u001b[1;31m---------------------------------------------------------------------------\u001b[0m",
      "\u001b[1;31mNameError\u001b[0m                                 Traceback (most recent call last)",
      "Cell \u001b[1;32mIn[1], line 1\u001b[0m\n\u001b[1;32m----> 1\u001b[0m df_total\u001b[39m.\u001b[39mhead()\n",
      "\u001b[1;31mNameError\u001b[0m: name 'df_total' is not defined"
     ]
    }
   ],
   "source": [
    "df_total.head()"
   ]
  },
  {
   "cell_type": "code",
   "execution_count": null,
   "metadata": {},
   "outputs": [],
   "source": [
    "#df_total.to_csv(\"db_modified.csv\", index = False)"
   ]
  },
  {
   "cell_type": "code",
   "execution_count": 6,
   "metadata": {},
   "outputs": [
    {
     "data": {
      "text/html": [
       "<div>\n",
       "<style scoped>\n",
       "    .dataframe tbody tr th:only-of-type {\n",
       "        vertical-align: middle;\n",
       "    }\n",
       "\n",
       "    .dataframe tbody tr th {\n",
       "        vertical-align: top;\n",
       "    }\n",
       "\n",
       "    .dataframe thead th {\n",
       "        text-align: right;\n",
       "    }\n",
       "</style>\n",
       "<table border=\"1\" class=\"dataframe\">\n",
       "  <thead>\n",
       "    <tr style=\"text-align: right;\">\n",
       "      <th></th>\n",
       "      <th>Unnamed: 0</th>\n",
       "      <th>ISBN_NO</th>\n",
       "      <th>MUMM_LON_HALFLIFE_CO</th>\n",
       "      <th>TITLE_NM</th>\n",
       "      <th>AUTHR_NM</th>\n",
       "      <th>PUBLISHER_NM</th>\n",
       "      <th>BOOK_INTRCN_CN</th>\n",
       "      <th>Combined</th>\n",
       "      <th>KDC_1</th>\n",
       "    </tr>\n",
       "  </thead>\n",
       "  <tbody>\n",
       "    <tr>\n",
       "      <th>17</th>\n",
       "      <td>17</td>\n",
       "      <td>9788982412578</td>\n",
       "      <td>6189</td>\n",
       "      <td>(아주 특별한)비주얼베이직6 게임과 프로젝트</td>\n",
       "      <td>Kebicampus 저</td>\n",
       "      <td>이한출판사</td>\n",
       "      <td>중급자를 위한 비주얼 베이직6 교재이다. 비주얼 베이직 6를 활용한 게임 프로그래밍...</td>\n",
       "      <td>NaN</td>\n",
       "      <td>5</td>\n",
       "    </tr>\n",
       "    <tr>\n",
       "      <th>18</th>\n",
       "      <td>18</td>\n",
       "      <td>9788982412622</td>\n",
       "      <td>6595</td>\n",
       "      <td>(데이터베이스 응용프로그램 개발을 위한)Access 2000과 Visual Basi...</td>\n",
       "      <td>승현우 저</td>\n",
       "      <td>이한출판사</td>\n",
       "      <td>데이터베이스 관리를 위한 프로그래밍을 배우기 위한 책이다. 다양한 예제를 통해 Ac...</td>\n",
       "      <td>NaN</td>\n",
       "      <td>0</td>\n",
       "    </tr>\n",
       "    <tr>\n",
       "      <th>22</th>\n",
       "      <td>22</td>\n",
       "      <td>9788982412691</td>\n",
       "      <td>6255</td>\n",
       "      <td>컴퓨터활용의 첫걸음:컴퓨터의 기초  윈도우즈와 인터넷  한글</td>\n",
       "      <td>송영재...[등]저</td>\n",
       "      <td>이한출판사</td>\n",
       "      <td>컴퓨터를 잘 활용하기 위하여 반드시 알아야 할 기초적인 내용으로 컴퓨터를 전공하지 ...</td>\n",
       "      <td>NaN</td>\n",
       "      <td>4</td>\n",
       "    </tr>\n",
       "    <tr>\n",
       "      <th>29</th>\n",
       "      <td>29</td>\n",
       "      <td>9788983502179</td>\n",
       "      <td>6476</td>\n",
       "      <td>Bell 5차원 성경적 교육</td>\n",
       "      <td>이홍남;원동연 [공]지음</td>\n",
       "      <td>예영커뮤니케이션</td>\n",
       "      <td>기독교 교육서. 교육에 관심이 많은 이들을 위한 기독교 교육서이다.</td>\n",
       "      <td>NaN</td>\n",
       "      <td>2</td>\n",
       "    </tr>\n",
       "    <tr>\n",
       "      <th>33</th>\n",
       "      <td>33</td>\n",
       "      <td>9788931418484</td>\n",
       "      <td>6089</td>\n",
       "      <td>드림위버로 만드는 홈페이지</td>\n",
       "      <td>영진교재개발팀 저</td>\n",
       "      <td>영진닷컴</td>\n",
       "      <td>드림위버로 만드는 홈페이지 교재. 드림위버에 대한 기본 개념, 화면 구조와 환경 설...</td>\n",
       "      <td>NaN</td>\n",
       "      <td>0</td>\n",
       "    </tr>\n",
       "    <tr>\n",
       "      <th>...</th>\n",
       "      <td>...</td>\n",
       "      <td>...</td>\n",
       "      <td>...</td>\n",
       "      <td>...</td>\n",
       "      <td>...</td>\n",
       "      <td>...</td>\n",
       "      <td>...</td>\n",
       "      <td>...</td>\n",
       "      <td>...</td>\n",
       "    </tr>\n",
       "    <tr>\n",
       "      <th>509135</th>\n",
       "      <td>509135</td>\n",
       "      <td>9788952929341</td>\n",
       "      <td>6234</td>\n",
       "      <td>이니셜 D</td>\n",
       "      <td>Shuichi Shigeno 저 ;설은미 역</td>\n",
       "      <td>학산문화사</td>\n",
       "      <td>NaN</td>\n",
       "      <td>NaN</td>\n",
       "      <td>8</td>\n",
       "    </tr>\n",
       "    <tr>\n",
       "      <th>509151</th>\n",
       "      <td>509151</td>\n",
       "      <td>9788952714176</td>\n",
       "      <td>6628</td>\n",
       "      <td>우물쭈물 하지마!</td>\n",
       "      <td>Hideyuki Yonehara 글·그림;황윤주 역</td>\n",
       "      <td>시공사</td>\n",
       "      <td>NaN</td>\n",
       "      <td>NaN</td>\n",
       "      <td>8</td>\n",
       "    </tr>\n",
       "    <tr>\n",
       "      <th>513378</th>\n",
       "      <td>513378</td>\n",
       "      <td>9791185213354</td>\n",
       "      <td>6236</td>\n",
       "      <td>황혼의 연가 :시농의 생애와 문향</td>\n",
       "      <td>지은이: 남대석</td>\n",
       "      <td>고글</td>\n",
       "      <td>NaN</td>\n",
       "      <td>NaN</td>\n",
       "      <td>8</td>\n",
       "    </tr>\n",
       "    <tr>\n",
       "      <th>521557</th>\n",
       "      <td>521557</td>\n",
       "      <td>9788949305714</td>\n",
       "      <td>6052</td>\n",
       "      <td>콜레스테롤 증가 예방과 치료 요양식</td>\n",
       "      <td>현대건강연구회 편</td>\n",
       "      <td>太乙出版社</td>\n",
       "      <td>NaN</td>\n",
       "      <td>NaN</td>\n",
       "      <td>5</td>\n",
       "    </tr>\n",
       "    <tr>\n",
       "      <th>526856</th>\n",
       "      <td>526856</td>\n",
       "      <td>9788983899019</td>\n",
       "      <td>6443</td>\n",
       "      <td>디지털 전자회로</td>\n",
       "      <td>이원석;김기남 공저</td>\n",
       "      <td>NaN</td>\n",
       "      <td>NaN</td>\n",
       "      <td>NaN</td>\n",
       "      <td>5</td>\n",
       "    </tr>\n",
       "  </tbody>\n",
       "</table>\n",
       "<p>27410 rows × 9 columns</p>\n",
       "</div>"
      ],
      "text/plain": [
       "        Unnamed: 0        ISBN_NO  MUMM_LON_HALFLIFE_CO   \n",
       "17              17  9788982412578                  6189  \\\n",
       "18              18  9788982412622                  6595   \n",
       "22              22  9788982412691                  6255   \n",
       "29              29  9788983502179                  6476   \n",
       "33              33  9788931418484                  6089   \n",
       "...            ...            ...                   ...   \n",
       "509135      509135  9788952929341                  6234   \n",
       "509151      509151  9788952714176                  6628   \n",
       "513378      513378  9791185213354                  6236   \n",
       "521557      521557  9788949305714                  6052   \n",
       "526856      526856  9788983899019                  6443   \n",
       "\n",
       "                                                 TITLE_NM   \n",
       "17                               (아주 특별한)비주얼베이직6 게임과 프로젝트  \\\n",
       "18      (데이터베이스 응용프로그램 개발을 위한)Access 2000과 Visual Basi...   \n",
       "22                      컴퓨터활용의 첫걸음:컴퓨터의 기초  윈도우즈와 인터넷  한글   \n",
       "29                                        Bell 5차원 성경적 교육   \n",
       "33                                         드림위버로 만드는 홈페이지   \n",
       "...                                                   ...   \n",
       "509135                                              이니셜 D   \n",
       "509151                                          우물쭈물 하지마!   \n",
       "513378                                황혼의 연가 :시농의 생애와 문향    \n",
       "521557                               콜레스테롤 증가 예방과 치료 요양식    \n",
       "526856                                          디지털 전자회로    \n",
       "\n",
       "                            AUTHR_NM PUBLISHER_NM   \n",
       "17                      Kebicampus 저        이한출판사  \\\n",
       "18                             승현우 저        이한출판사   \n",
       "22                        송영재...[등]저        이한출판사   \n",
       "29                     이홍남;원동연 [공]지음     예영커뮤니케이션   \n",
       "33                         영진교재개발팀 저         영진닷컴   \n",
       "...                              ...          ...   \n",
       "509135      Shuichi Shigeno 저 ;설은미 역        학산문화사   \n",
       "509151  Hideyuki Yonehara 글·그림;황윤주 역          시공사   \n",
       "513378                      지은이: 남대석           고글   \n",
       "521557                     현대건강연구회 편        太乙出版社   \n",
       "526856                    이원석;김기남 공저          NaN   \n",
       "\n",
       "                                           BOOK_INTRCN_CN Combined KDC_1  \n",
       "17      중급자를 위한 비주얼 베이직6 교재이다. 비주얼 베이직 6를 활용한 게임 프로그래밍...      NaN     5  \n",
       "18      데이터베이스 관리를 위한 프로그래밍을 배우기 위한 책이다. 다양한 예제를 통해 Ac...      NaN     0  \n",
       "22      컴퓨터를 잘 활용하기 위하여 반드시 알아야 할 기초적인 내용으로 컴퓨터를 전공하지 ...      NaN     4  \n",
       "29                  기독교 교육서. 교육에 관심이 많은 이들을 위한 기독교 교육서이다.      NaN     2  \n",
       "33      드림위버로 만드는 홈페이지 교재. 드림위버에 대한 기본 개념, 화면 구조와 환경 설...      NaN     0  \n",
       "...                                                   ...      ...   ...  \n",
       "509135                                                NaN      NaN     8  \n",
       "509151                                                NaN      NaN     8  \n",
       "513378                                                NaN      NaN     8  \n",
       "521557                                                NaN      NaN     5  \n",
       "526856                                                NaN      NaN     5  \n",
       "\n",
       "[27410 rows x 9 columns]"
      ]
     },
     "execution_count": 6,
     "metadata": {},
     "output_type": "execute_result"
    }
   ],
   "source": [
    "df[df['MUMM_LON_HALFLIFE_CO'] > 6000]"
   ]
  },
  {
   "cell_type": "code",
   "execution_count": 13,
   "metadata": {},
   "outputs": [],
   "source": [
    "df.drop(df[df['MUMM_LON_HALFLIFE_CO'] > 6000].index,inplace=True)"
   ]
  },
  {
   "cell_type": "code",
   "execution_count": 14,
   "metadata": {},
   "outputs": [
    {
     "data": {
      "text/html": [
       "<div>\n",
       "<style scoped>\n",
       "    .dataframe tbody tr th:only-of-type {\n",
       "        vertical-align: middle;\n",
       "    }\n",
       "\n",
       "    .dataframe tbody tr th {\n",
       "        vertical-align: top;\n",
       "    }\n",
       "\n",
       "    .dataframe thead th {\n",
       "        text-align: right;\n",
       "    }\n",
       "</style>\n",
       "<table border=\"1\" class=\"dataframe\">\n",
       "  <thead>\n",
       "    <tr style=\"text-align: right;\">\n",
       "      <th></th>\n",
       "      <th>Unnamed: 0</th>\n",
       "      <th>ISBN_NO</th>\n",
       "      <th>MUMM_LON_HALFLIFE_CO</th>\n",
       "      <th>TITLE_NM</th>\n",
       "      <th>AUTHR_NM</th>\n",
       "      <th>PUBLISHER_NM</th>\n",
       "      <th>BOOK_INTRCN_CN</th>\n",
       "      <th>Combined</th>\n",
       "      <th>KDC_1</th>\n",
       "    </tr>\n",
       "  </thead>\n",
       "  <tbody>\n",
       "  </tbody>\n",
       "</table>\n",
       "</div>"
      ],
      "text/plain": [
       "Empty DataFrame\n",
       "Columns: [Unnamed: 0, ISBN_NO, MUMM_LON_HALFLIFE_CO, TITLE_NM, AUTHR_NM, PUBLISHER_NM, BOOK_INTRCN_CN, Combined, KDC_1]\n",
       "Index: []"
      ]
     },
     "execution_count": 14,
     "metadata": {},
     "output_type": "execute_result"
    }
   ],
   "source": [
    "df[df['MUMM_LON_HALFLIFE_CO'] > 6000]"
   ]
  },
  {
   "cell_type": "code",
   "execution_count": null,
   "metadata": {},
   "outputs": [],
   "source": [
    "#df.to_csv(\"db_Modified.csv\", index = False)"
   ]
  },
  {
   "cell_type": "code",
   "execution_count": 4,
   "metadata": {},
   "outputs": [
    {
     "name": "stderr",
     "output_type": "stream",
     "text": [
      "C:\\Users\\whdrk\\AppData\\Local\\Temp\\ipykernel_4992\\4182279763.py:1: DtypeWarning: Columns (8) have mixed types. Specify dtype option on import or set low_memory=False.\n",
      "  df_new = pd.read_csv(\"C:/Users/whdrk/OneDrive/문서/GitHub/alpaco5_Project_library/3_Webui/chatbot/db_modified.csv\")\n"
     ]
    }
   ],
   "source": [
    "df_new = pd.read_csv(\"C:/Users/whdrk/OneDrive/문서/GitHub/alpaco5_Project_library/3_Webui/chatbot/db_modified.csv\")"
   ]
  },
  {
   "cell_type": "code",
   "execution_count": 5,
   "metadata": {},
   "outputs": [
    {
     "data": {
      "text/html": [
       "<div>\n",
       "<style scoped>\n",
       "    .dataframe tbody tr th:only-of-type {\n",
       "        vertical-align: middle;\n",
       "    }\n",
       "\n",
       "    .dataframe tbody tr th {\n",
       "        vertical-align: top;\n",
       "    }\n",
       "\n",
       "    .dataframe thead th {\n",
       "        text-align: right;\n",
       "    }\n",
       "</style>\n",
       "<table border=\"1\" class=\"dataframe\">\n",
       "  <thead>\n",
       "    <tr style=\"text-align: right;\">\n",
       "      <th></th>\n",
       "      <th>Unnamed: 0</th>\n",
       "      <th>ISBN_NO</th>\n",
       "      <th>MUMM_LON_HALFLIFE_CO</th>\n",
       "      <th>TITLE_NM</th>\n",
       "      <th>AUTHR_NM</th>\n",
       "      <th>PUBLISHER_NM</th>\n",
       "      <th>BOOK_INTRCN_CN</th>\n",
       "      <th>Combined</th>\n",
       "      <th>KDC_1</th>\n",
       "    </tr>\n",
       "  </thead>\n",
       "  <tbody>\n",
       "    <tr>\n",
       "      <th>0</th>\n",
       "      <td>0</td>\n",
       "      <td>9788975486456</td>\n",
       "      <td>2765</td>\n",
       "      <td>(L=MS²학문의 기원)學習學</td>\n",
       "      <td>韓駿相 著</td>\n",
       "      <td>학지사</td>\n",
       "      <td>학습학 사상과 원형을 탐구한 책. 배우고 익히는 인간의 아름다움과 동시에 실천이라는...</td>\n",
       "      <td>NaN</td>\n",
       "      <td>3</td>\n",
       "    </tr>\n",
       "    <tr>\n",
       "      <th>1</th>\n",
       "      <td>1</td>\n",
       "      <td>9788976820624</td>\n",
       "      <td>807</td>\n",
       "      <td>골콘다</td>\n",
       "      <td>존 브룩스 지음;이동진 옮김</td>\n",
       "      <td>그린비</td>\n",
       "      <td>30년 넘게 미국 대학에서 금융.증권의 교재로 쓰이던 는 1920년~1938년의 월...</td>\n",
       "      <td>NaN</td>\n",
       "      <td>3</td>\n",
       "    </tr>\n",
       "    <tr>\n",
       "      <th>2</th>\n",
       "      <td>2</td>\n",
       "      <td>9788977990401</td>\n",
       "      <td>835</td>\n",
       "      <td>건축기술 실무이야기:건축구조·시공/신기술·신공법</td>\n",
       "      <td>삼성물산 건설부문 저</td>\n",
       "      <td>공간예술사</td>\n",
       "      <td>건축기술 지침서. 건축구조 지식의 학습과 적용에 대한 의식전환이 필요하다는 인식하에...</td>\n",
       "      <td>NaN</td>\n",
       "      <td>5</td>\n",
       "    </tr>\n",
       "    <tr>\n",
       "      <th>3</th>\n",
       "      <td>3</td>\n",
       "      <td>9788972783497</td>\n",
       "      <td>2566</td>\n",
       "      <td>(일상으로 본)조선시대 이야기</td>\n",
       "      <td>정연식 지음</td>\n",
       "      <td>청년사</td>\n",
       "      <td>NaN</td>\n",
       "      <td>NaN</td>\n",
       "      <td>9</td>\n",
       "    </tr>\n",
       "    <tr>\n",
       "      <th>4</th>\n",
       "      <td>4</td>\n",
       "      <td>9788932105635</td>\n",
       "      <td>2806</td>\n",
       "      <td>주님의 기도:해설</td>\n",
       "      <td>로마노 구아르디니 저;이석은 역</td>\n",
       "      <td>가톨릭출판사</td>\n",
       "      <td>별다른 의미 없이 기도를 반복하는 신자들을 위해 영혼들에게 깨달음을 주는 기도해설서...</td>\n",
       "      <td>NaN</td>\n",
       "      <td>2</td>\n",
       "    </tr>\n",
       "  </tbody>\n",
       "</table>\n",
       "</div>"
      ],
      "text/plain": [
       "   Unnamed: 0        ISBN_NO  MUMM_LON_HALFLIFE_CO   \n",
       "0           0  9788975486456                  2765  \\\n",
       "1           1  9788976820624                   807   \n",
       "2           2  9788977990401                   835   \n",
       "3           3  9788972783497                  2566   \n",
       "4           4  9788932105635                  2806   \n",
       "\n",
       "                     TITLE_NM           AUTHR_NM PUBLISHER_NM   \n",
       "0            (L=MS²학문의 기원)學習學              韓駿相 著          학지사  \\\n",
       "1                         골콘다    존 브룩스 지음;이동진 옮김          그린비   \n",
       "2  건축기술 실무이야기:건축구조·시공/신기술·신공법        삼성물산 건설부문 저        공간예술사   \n",
       "3            (일상으로 본)조선시대 이야기             정연식 지음          청년사   \n",
       "4                   주님의 기도:해설  로마노 구아르디니 저;이석은 역       가톨릭출판사   \n",
       "\n",
       "                                      BOOK_INTRCN_CN Combined KDC_1  \n",
       "0  학습학 사상과 원형을 탐구한 책. 배우고 익히는 인간의 아름다움과 동시에 실천이라는...      NaN     3  \n",
       "1  30년 넘게 미국 대학에서 금융.증권의 교재로 쓰이던 는 1920년~1938년의 월...      NaN     3  \n",
       "2  건축기술 지침서. 건축구조 지식의 학습과 적용에 대한 의식전환이 필요하다는 인식하에...      NaN     5  \n",
       "3                                                NaN      NaN     9  \n",
       "4  별다른 의미 없이 기도를 반복하는 신자들을 위해 영혼들에게 깨달음을 주는 기도해설서...      NaN     2  "
      ]
     },
     "execution_count": 5,
     "metadata": {},
     "output_type": "execute_result"
    }
   ],
   "source": [
    "df_new.head()"
   ]
  },
  {
   "cell_type": "code",
   "execution_count": 5,
   "metadata": {},
   "outputs": [
    {
     "name": "stderr",
     "output_type": "stream",
     "text": [
      "C:\\Users\\whdrk\\AppData\\Local\\Temp\\ipykernel_5608\\1295987423.py:1: DtypeWarning: Columns (12,15,18,19,20) have mixed types. Specify dtype option on import or set low_memory=False.\n",
      "  df_total_modified = pd.read_csv(\"C:/Users/whdrk/OneDrive/문서/GitHub/alpaco5_Project_library/3_Webui/chatbot/total_modified.csv\")\n"
     ]
    }
   ],
   "source": [
    "df_total_modified = pd.read_csv(\"C:/Users/whdrk/OneDrive/문서/GitHub/alpaco5_Project_library/3_Webui/chatbot/total_modified.csv\")"
   ]
  },
  {
   "cell_type": "code",
   "execution_count": 6,
   "metadata": {},
   "outputs": [
    {
     "data": {
      "text/plain": [
       "Index(['Unnamed: 0', 'BOOK_MASTR_SEQ_NO', 'ISBN_NO', 'MUMM_LON_HALFLIFE_CO',\n",
       "       'MXMM_LON_HALFLIFE_CO', 'AVRG_LON_HALFLIFE_CO', 'BOOK_CO',\n",
       "       'ISBN_THIRTEEN_NO', 'TITLE_NM', 'AUTHR_NM', 'PUBLISHER_NM', 'SEQ_NO',\n",
       "       'ADTION_SMBL_NM', 'IMAGE_URL', 'BOOK_INTRCN_CN', 'KDC_NM', 'LON_CO',\n",
       "       'Combined', 'KDC_1', 'KDC_12', 'KDC_123'],\n",
       "      dtype='object')"
      ]
     },
     "execution_count": 6,
     "metadata": {},
     "output_type": "execute_result"
    }
   ],
   "source": [
    "df_total_modified.columns"
   ]
  }
 ],
 "metadata": {
  "kernelspec": {
   "display_name": "dash_project",
   "language": "python",
   "name": "python3"
  },
  "language_info": {
   "codemirror_mode": {
    "name": "ipython",
    "version": 3
   },
   "file_extension": ".py",
   "mimetype": "text/x-python",
   "name": "python",
   "nbconvert_exporter": "python",
   "pygments_lexer": "ipython3",
   "version": "3.10.10"
  },
  "orig_nbformat": 4
 },
 "nbformat": 4,
 "nbformat_minor": 2
}
