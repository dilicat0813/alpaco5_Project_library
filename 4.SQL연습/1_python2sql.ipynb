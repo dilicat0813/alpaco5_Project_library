{
 "cells": [
  {
   "cell_type": "code",
   "execution_count": 2,
   "metadata": {},
   "outputs": [],
   "source": [
    "import pymysql"
   ]
  },
  {
   "cell_type": "code",
   "execution_count": 8,
   "metadata": {},
   "outputs": [],
   "source": [
    "conn = pymysql.connect(host='localhost',\n",
    "                       user='root',\n",
    "                       password='1234',\n",
    "                       db='library',\n",
    "                       charset='utf8')\n",
    "\n",
    "#테이블 만들기\n",
    "sql = '''CREATE TABLE Subscribe (  \n",
    "        EMAIL varchar(255),\n",
    "        KDC varchar(255),\n",
    "        SRCHWRD varchar(255)\n",
    "        )\n",
    "        '''\n",
    "     #subscribe 테이블 이름\n",
    "     \n",
    "with conn:\n",
    "    with conn.cursor() as cur:\n",
    "        cur.execute(sql)\n",
    "        conn.commit()\n"
   ]
  },
  {
   "cell_type": "code",
   "execution_count": 5,
   "metadata": {},
   "outputs": [
    {
     "name": "stdout",
     "output_type": "stream",
     "text": [
      "('user',)\n"
     ]
    }
   ],
   "source": [
    "conn = pymysql.connect(host='localhost',\n",
    "                       user='root',\n",
    "                       password='1234',\n",
    "                       db='library',\n",
    "                       charset='utf8')\n",
    "\n",
    "sql = 'SHOW TABLES'\n",
    "\n",
    "with conn:\n",
    "    with conn.cursor() as cur:\n",
    "        cur.execute(sql)\n",
    "        for data in cur:\n",
    "            print(data)"
   ]
  },
  {
   "cell_type": "code",
   "execution_count": 9,
   "metadata": {},
   "outputs": [],
   "source": [
    "conn = pymysql.connect(host='localhost',\n",
    "                       user='root',\n",
    "                       password='1234',\n",
    "                       db='library',\n",
    "                       charset='utf8')\n",
    "\n",
    "sql = \"DROP TABLE IF EXISTS user\"\n",
    "\n",
    "with conn:\n",
    "    with conn.cursor() as cur:\n",
    "        cur.execute(sql)\n",
    "    conn.commit()"
   ]
  },
  {
   "cell_type": "code",
   "execution_count": null,
   "metadata": {},
   "outputs": [],
   "source": []
  }
 ],
 "metadata": {
  "kernelspec": {
   "display_name": "Python 3",
   "language": "python",
   "name": "python3"
  },
  "language_info": {
   "codemirror_mode": {
    "name": "ipython",
    "version": 3
   },
   "file_extension": ".py",
   "mimetype": "text/x-python",
   "name": "python",
   "nbconvert_exporter": "python",
   "pygments_lexer": "ipython3",
   "version": "3.11.3"
  },
  "orig_nbformat": 4
 },
 "nbformat": 4,
 "nbformat_minor": 2
}
